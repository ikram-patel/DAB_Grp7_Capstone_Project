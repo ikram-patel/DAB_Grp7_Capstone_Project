{
 "cells": [
  {
   "cell_type": "code",
   "execution_count": 1,
   "id": "57144f1c-6c28-438c-8dac-45479a3437a6",
   "metadata": {},
   "outputs": [],
   "source": [
    "from flask import Flask, request, render_template\n",
    "import joblib\n",
    "import pandas as pd\n",
    "import numpy as np\n",
    "import flask"
   ]
  },
  {
   "cell_type": "code",
   "execution_count": 2,
   "id": "e369f0a3-7858-4f52-b950-db07d2191ed1",
   "metadata": {},
   "outputs": [
    {
     "name": "stdout",
     "output_type": "stream",
     "text": [
      " * Serving Flask app '__main__'\n",
      " * Debug mode: on\n"
     ]
    },
    {
     "name": "stderr",
     "output_type": "stream",
     "text": [
      "WARNING: This is a development server. Do not use it in a production deployment. Use a production WSGI server instead.\n",
      " * Running on http://127.0.0.1:5001\n",
      "Press CTRL+C to quit\n",
      "127.0.0.1 - - [26/Apr/2024 18:39:22] \"GET / HTTP/1.1\" 200 -\n",
      "127.0.0.1 - - [26/Apr/2024 18:39:22] \"GET / HTTP/1.1\" 200 -\n",
      "127.0.0.1 - - [26/Apr/2024 18:39:22] \"GET /static/background_2.jpg HTTP/1.1\" 304 -\n",
      "127.0.0.1 - - [26/Apr/2024 18:39:22] \"GET /favicon.ico HTTP/1.1\" 404 -\n",
      "127.0.0.1 - - [26/Apr/2024 18:40:09] \"POST /predict HTTP/1.1\" 200 -\n",
      "127.0.0.1 - - [26/Apr/2024 18:40:09] \"GET /static/background_2.jpg HTTP/1.1\" 304 -\n",
      "127.0.0.1 - - [26/Apr/2024 18:40:09] \"GET /predict HTTP/1.1\" 405 -\n"
     ]
    }
   ],
   "source": [
    "# Load your trained machine learning model\n",
    "model = joblib.load(open('gradient_boosting_regressor.pkl','rb'))\n",
    "\n",
    "app = flask.Flask(__name__, template_folder='templates', static_folder='static')\n",
    "\n",
    "@app.route('/')\n",
    "def main():\n",
    "    return(flask.render_template('totalpurchases.html'))\n",
    "\n",
    "@app.route('/predict', methods=['POST'])\n",
    "def predict():\n",
    "    \n",
    "   # Parsing the input data from the request and appending it to the DataFrame\n",
    "    active   = request.form['active']\n",
    "    frequency = request.form['frequency']\n",
    "    discountsused = request.form['discountsused']\n",
    "    totalrevenue = request.form['totalrevenue']\n",
    "    feedbackscore = request.form['feedbackscore']\n",
    "    preferredpaymentmethod = request.form['preferredpaymentmethod']\n",
    "    firstpurchasedate = request.form['firstpurchasedate']\n",
    "    lastpurchasedate = request.form['lastpurchasedate']\n",
    "    \n",
    "    df = pd.DataFrame({'totalrevenue': [totalrevenue], 'churnindicator': [active], 'discountsused': [discountsused], 'feedbackscore': [feedbackscore], 'preferredpaymentmethod': [preferredpaymentmethod], \n",
    "                       'frequency': [frequency], 'firstpurchasedate': [firstpurchasedate], 'lastpurchasedate': [lastpurchasedate]})\n",
    "\n",
    "    mapping = {'yes': 1, 'no': 0}\n",
    "    mapping1 = {'debit card': 1, 'cash': 2, 'credit card': 4, 'afterpay': 5, 'google pay': 3, 'apple pay': 3, 'sezzle': 3, 'paypal': 3, 'eft': 3}\n",
    "    \n",
    "    # Applying the mapping \n",
    "    df['churnindicator'] = df['churnindicator'].map(mapping)\n",
    "    df['preferredpaymentmethod'] = df['preferredpaymentmethod'].map(mapping1)\n",
    "    \n",
    "    # converting 'lastpurchasedate' and 'firstpurchasedate' into datetime datatype\n",
    "    df['lastpurchasedate'] = pd.to_datetime(df['lastpurchasedate'])\n",
    "    df['firstpurchasedate'] = pd.to_datetime(df['firstpurchasedate'])\n",
    "\n",
    "    # getting the max from 'lastpurchasedate'\n",
    "    current_date = df['lastpurchasedate'].max()\n",
    "    # calculating 'recency' based on 'lastpurchasedate'\n",
    "    df['recency'] = (current_date - df['lastpurchasedate']).dt.days\n",
    "    \n",
    "    # creatiing 'Tenure' column by subracting the 'firstpurchasedate' from 'lastpurchasedate' for each customer\n",
    "    df['tenure'] = (df['lastpurchasedate'] - df['firstpurchasedate']).dt.days\n",
    "\n",
    "    features = ['totalrevenue', 'churnindicator', 'discountsused', 'feedbackscore', 'preferredpaymentmethod', 'frequency', 'tenure', 'recency']\n",
    "    \n",
    "    # Create a new DataFrame with only the selected columns\n",
    "    data = df[features]\n",
    "\n",
    "    # Making predictions using the loaded model and the data stored in the DataFrame\n",
    "    prediction = model.predict(data)  \n",
    "    \n",
    "    # Round the predicted values to the nearest integer\n",
    "    prediction = prediction.round().astype(int)\n",
    "    \n",
    "    #Values to be returned on making predictions\n",
    "    prediction\n",
    "    \n",
    "    # Returning prediction result as plain text\n",
    "    return flask.render_template('totalpurchases.html', prediction=prediction)\n",
    "\n",
    "if __name__ == '__main__':\n",
    "    app.run(debug=True, port = 5001, use_reloader=False)"
   ]
  }
 ],
 "metadata": {
  "kernelspec": {
   "display_name": "Python 3 (ipykernel)",
   "language": "python",
   "name": "python3"
  },
  "language_info": {
   "codemirror_mode": {
    "name": "ipython",
    "version": 3
   },
   "file_extension": ".py",
   "mimetype": "text/x-python",
   "name": "python",
   "nbconvert_exporter": "python",
   "pygments_lexer": "ipython3",
   "version": "3.10.11"
  }
 },
 "nbformat": 4,
 "nbformat_minor": 5
}
