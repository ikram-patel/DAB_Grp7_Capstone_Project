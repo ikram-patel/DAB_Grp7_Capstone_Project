{
 "cells": [
  {
   "cell_type": "code",
   "execution_count": 2,
   "id": "bfb26c5b-e18f-4ca2-a29e-c373971faaf2",
   "metadata": {},
   "outputs": [],
   "source": [
    "from flask import Flask, request, render_template\n",
    "import joblib\n",
    "import pandas as pd\n",
    "import numpy as np\n",
    "import flask"
   ]
  },
  {
   "cell_type": "code",
   "execution_count": 3,
   "id": "1dc6c7e9-202b-4659-9be5-a9c3c1e056cd",
   "metadata": {},
   "outputs": [
    {
     "name": "stdout",
     "output_type": "stream",
     "text": [
      " * Serving Flask app '__main__'\n",
      " * Debug mode: on\n"
     ]
    },
    {
     "name": "stderr",
     "output_type": "stream",
     "text": [
      "WARNING: This is a development server. Do not use it in a production deployment. Use a production WSGI server instead.\n",
      " * Running on http://127.0.0.1:5000\n",
      "Press CTRL+C to quit\n",
      "127.0.0.1 - - [26/Apr/2024 18:36:50] \"GET / HTTP/1.1\" 200 -\n",
      "127.0.0.1 - - [26/Apr/2024 18:36:50] \"GET / HTTP/1.1\" 200 -\n",
      "127.0.0.1 - - [26/Apr/2024 18:36:50] \"GET /static/background_2.jpg HTTP/1.1\" 200 -\n",
      "127.0.0.1 - - [26/Apr/2024 18:36:50] \"GET /favicon.ico HTTP/1.1\" 404 -\n",
      "127.0.0.1 - - [26/Apr/2024 18:37:24] \"POST /predict HTTP/1.1\" 200 -\n",
      "127.0.0.1 - - [26/Apr/2024 18:37:24] \"GET /static/background_2.jpg HTTP/1.1\" 304 -\n",
      "127.0.0.1 - - [26/Apr/2024 18:37:24] \"GET /predict HTTP/1.1\" 405 -\n"
     ]
    }
   ],
   "source": [
    "# Load your trained machine learning model\n",
    "model = joblib.load(open('random_forest_classifier.pkl','rb'))\n",
    "\n",
    "app = flask.Flask(__name__, template_folder='templates', static_folder='static')\n",
    "\n",
    "@app.route('/')\n",
    "def main():\n",
    "    return(flask.render_template('Retail_Store_Web.html'))\n",
    "\n",
    "@app.route('/predict', methods=['POST'])\n",
    "def predict():\n",
    "    \n",
    "   # Parsing the input data from the request and appending it to the DataFrame\n",
    "    active   = request.form['active']\n",
    "    frequency = request.form['frequency']\n",
    "    totalpurchases = request.form['totalpurchases']\n",
    "    totalrevenue = request.form['totalrevenue']\n",
    "    feedbackscore = request.form['feedbackscore']\n",
    "\n",
    "    \n",
    "    df = pd.DataFrame({'feedbackscore': [feedbackscore], 'totalrevenue': [totalrevenue], 'totalpurchases': [totalpurchases], 'frequency': [frequency], 'churnindicator': [active]})\n",
    "\n",
    "    mapping = {'yes': 1, 'no': 0}\n",
    "\n",
    "    # Applying the mapping \n",
    "    df['churnindicator'] = df['churnindicator'].map(mapping)\n",
    "    \n",
    "    # Making predictions using the loaded model and the data stored in the DataFrame\n",
    "    prediction = model.predict(df)  \n",
    "    \n",
    "    #Values to be returned on making predictions\n",
    "    label_mapping = {\n",
    "    0: \"The customer is LESS LIKELY to sign up for a loyalty card even if it's promoted to them.\",\n",
    "    1: \"There is a HIGH LIKELIHOOD that the customer might opt for a loyalty card when promoted with one.\"\n",
    "    }\n",
    "    predicted_label = label_mapping.get(prediction[0], \"Unknown\")\n",
    "    \n",
    "    # Returning prediction result as plain text\n",
    "    return flask.render_template('Retail_Store_Web.html', prediction=predicted_label)\n",
    "\n",
    "if __name__ == '__main__':\n",
    "    app.run(debug=True, use_reloader=False)"
   ]
  }
 ],
 "metadata": {
  "kernelspec": {
   "display_name": "Python 3 (ipykernel)",
   "language": "python",
   "name": "python3"
  },
  "language_info": {
   "codemirror_mode": {
    "name": "ipython",
    "version": 3
   },
   "file_extension": ".py",
   "mimetype": "text/x-python",
   "name": "python",
   "nbconvert_exporter": "python",
   "pygments_lexer": "ipython3",
   "version": "3.10.11"
  }
 },
 "nbformat": 4,
 "nbformat_minor": 5
}
