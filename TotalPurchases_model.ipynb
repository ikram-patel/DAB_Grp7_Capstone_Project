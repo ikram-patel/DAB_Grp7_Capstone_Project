{
 "cells": [
  {
   "cell_type": "markdown",
   "id": "0d833d30-8499-4132-b844-fef7c222495a",
   "metadata": {
    "tags": []
   },
   "source": [
    "## **Multi Mart data for Frequency and Revenue Analysis**\n",
    "\n",
    "Frequency and Revenue Analysis is an estimate of all the future profits to be accumulated from a relationship with a given customer. It is used in the business to measure the performance of retention strategies and to provide insights into how much should be spent in customer acquisition."
   ]
  },
  {
   "cell_type": "markdown",
   "id": "b3b17602-a1d7-4fe4-afd9-31924ea90e85",
   "metadata": {},
   "source": [
    "### **Data Dictionary**"
   ]
  },
  {
   "cell_type": "markdown",
   "id": "5d017458-9e65-4c30-a0fe-b3b50083c0bb",
   "metadata": {},
   "source": [
    "**Objective**: To understand and gain insights from an E-Commerce dataset by performing various exploratory data analyses, data visualization, and data modelling.<br>\n",
    "<br>\n",
    "**Dataset Columns:**\n",
    "\n",
    "**CustomerID** : Unique customer ID<br>\n",
    "**first purchase date** : It refers to the date when a customer or user made their initial purchase or transaction with the organization.<br>\n",
    "**last purchase date** : It refers to the date when a customer or user made their most recent purchase or transaction with the organization.<br>\n",
    "**total purchases** : It is the count or sum of all purchases made by a customer or user with the organization.<br>\n",
    "**total revenue** : It is the sum of all revenue generated from customer or user transactions with the organization.<br>\n",
    "**referral source** : It provides information about how individuals found out about the products or services.<br>\n",
    "**churn indicator** : This is a binary flag that indicates whether a customer or user has churned (i.e., stopped using the products or services) or is still an active customer. Typically, a value of 1 or \"Yes\" is used to indicate churn, while 0 or \"No\" is used to indicate an active customer.<br>\n",
    "**discount used** : It provides information about whether a discount was utilized for a specific purchase or order.<br>\n",
    "**product category** : It classifies products into specific categories or groups based on their characteristics or purpose.<br> **responsetolastcampaign** : This indicates whether and how a customer or user responded to the most recent marketing campaign.<br>\n",
    "**feedbackscore** : It represents a numeric score or rating provided by customers or users as feedback for a product, service, or experience.<br>\n",
    "**preferredpaymentmethod** : It provides information about the customer's preferred way to make payments.<br>\n",
    "**supportticketsraised** : It represents the number of customer or user support tickets that have been opened or raised by individuals seeking assistance, reporting issues, or making inquiries.<br>\n",
    "**hasloyaltycard** : This is a binary indicator that shows whether a customer or user possesses a loyalty card with the organization.<br>\n",
    "**frequency** : The frequency column represents how often a customer or user interacts with the organization, such as making purchases, engaging with the services, or participating in activities. The frequency column is based on the first purchase date and the last purchase date period.\n"
   ]
  },
  {
   "cell_type": "code",
   "execution_count": 1,
   "id": "a08be1c7-d10c-43b4-a6b4-f0d74728d157",
   "metadata": {},
   "outputs": [],
   "source": [
    "# importing the necessary  libraries\n",
    "import pandas as pd\n",
    "import numpy as np\n",
    "import matplotlib.pyplot as plt\n",
    "import warnings\n",
    "\n",
    "\n",
    "# Enable inline plotting for matplotlib\n",
    "%matplotlib inline\n",
    "\n",
    "# Ignore warnings to prevent them from being displayed\n",
    "warnings.filterwarnings(\"ignore\")"
   ]
  },
  {
   "cell_type": "code",
   "execution_count": 2,
   "id": "6bb8ed5c-7b9b-472f-abde-c2f19e5b8df9",
   "metadata": {},
   "outputs": [
    {
     "data": {
      "text/html": [
       "<div>\n",
       "<style scoped>\n",
       "    .dataframe tbody tr th:only-of-type {\n",
       "        vertical-align: middle;\n",
       "    }\n",
       "\n",
       "    .dataframe tbody tr th {\n",
       "        vertical-align: top;\n",
       "    }\n",
       "\n",
       "    .dataframe thead th {\n",
       "        text-align: right;\n",
       "    }\n",
       "</style>\n",
       "<table border=\"1\" class=\"dataframe\">\n",
       "  <thead>\n",
       "    <tr style=\"text-align: right;\">\n",
       "      <th></th>\n",
       "      <th>customerid</th>\n",
       "      <th>firstpurchasedate</th>\n",
       "      <th>lastpurchasedate</th>\n",
       "      <th>totalpurchases</th>\n",
       "      <th>totalrevenue</th>\n",
       "      <th>referralsource</th>\n",
       "      <th>churnindicator</th>\n",
       "      <th>discountsused</th>\n",
       "      <th>productcategory</th>\n",
       "      <th>responsetolastcampaign</th>\n",
       "      <th>feedbackscore</th>\n",
       "      <th>preferredpaymentmethod</th>\n",
       "      <th>supportticketsraised</th>\n",
       "      <th>hasloyaltycard</th>\n",
       "      <th>frequency</th>\n",
       "    </tr>\n",
       "  </thead>\n",
       "  <tbody>\n",
       "    <tr>\n",
       "      <th>0</th>\n",
       "      <td>8519</td>\n",
       "      <td>2021-12-31</td>\n",
       "      <td>2022-03-06</td>\n",
       "      <td>7</td>\n",
       "      <td>11670</td>\n",
       "      <td>Online advertisements</td>\n",
       "      <td>0</td>\n",
       "      <td>2</td>\n",
       "      <td>Q02</td>\n",
       "      <td>ignored</td>\n",
       "      <td>4.729998</td>\n",
       "      <td>debit card</td>\n",
       "      <td>0</td>\n",
       "      <td>no</td>\n",
       "      <td>7</td>\n",
       "    </tr>\n",
       "    <tr>\n",
       "      <th>1</th>\n",
       "      <td>38152</td>\n",
       "      <td>2019-09-27</td>\n",
       "      <td>2023-02-02</td>\n",
       "      <td>20</td>\n",
       "      <td>5260</td>\n",
       "      <td>Traditional media outreach</td>\n",
       "      <td>1</td>\n",
       "      <td>6</td>\n",
       "      <td>F76</td>\n",
       "      <td>purchased</td>\n",
       "      <td>4.184512</td>\n",
       "      <td>cash</td>\n",
       "      <td>0</td>\n",
       "      <td>no</td>\n",
       "      <td>2</td>\n",
       "    </tr>\n",
       "    <tr>\n",
       "      <th>2</th>\n",
       "      <td>19680</td>\n",
       "      <td>2021-06-13</td>\n",
       "      <td>2022-02-04</td>\n",
       "      <td>29</td>\n",
       "      <td>9790</td>\n",
       "      <td>Influencer endorsements</td>\n",
       "      <td>0</td>\n",
       "      <td>2</td>\n",
       "      <td>X04</td>\n",
       "      <td>opened mail</td>\n",
       "      <td>4.346640</td>\n",
       "      <td>google pay</td>\n",
       "      <td>0</td>\n",
       "      <td>no</td>\n",
       "      <td>4</td>\n",
       "    </tr>\n",
       "    <tr>\n",
       "      <th>3</th>\n",
       "      <td>35744</td>\n",
       "      <td>2021-07-28</td>\n",
       "      <td>2022-08-21</td>\n",
       "      <td>15</td>\n",
       "      <td>9591</td>\n",
       "      <td>Influencer endorsements</td>\n",
       "      <td>0</td>\n",
       "      <td>5</td>\n",
       "      <td>A25</td>\n",
       "      <td>ignored</td>\n",
       "      <td>5.000000</td>\n",
       "      <td>debit card</td>\n",
       "      <td>0</td>\n",
       "      <td>no</td>\n",
       "      <td>13</td>\n",
       "    </tr>\n",
       "    <tr>\n",
       "      <th>4</th>\n",
       "      <td>11663</td>\n",
       "      <td>2021-01-19</td>\n",
       "      <td>2022-03-10</td>\n",
       "      <td>13</td>\n",
       "      <td>10134</td>\n",
       "      <td>Word of mouth</td>\n",
       "      <td>0</td>\n",
       "      <td>3</td>\n",
       "      <td>A16</td>\n",
       "      <td>ignored</td>\n",
       "      <td>4.482089</td>\n",
       "      <td>credit card</td>\n",
       "      <td>0</td>\n",
       "      <td>no</td>\n",
       "      <td>11</td>\n",
       "    </tr>\n",
       "  </tbody>\n",
       "</table>\n",
       "</div>"
      ],
      "text/plain": [
       "   customerid firstpurchasedate lastpurchasedate  totalpurchases   \n",
       "0        8519        2021-12-31       2022-03-06               7  \\\n",
       "1       38152        2019-09-27       2023-02-02              20   \n",
       "2       19680        2021-06-13       2022-02-04              29   \n",
       "3       35744        2021-07-28       2022-08-21              15   \n",
       "4       11663        2021-01-19       2022-03-10              13   \n",
       "\n",
       "   totalrevenue              referralsource  churnindicator  discountsused   \n",
       "0         11670       Online advertisements               0              2  \\\n",
       "1          5260  Traditional media outreach               1              6   \n",
       "2          9790     Influencer endorsements               0              2   \n",
       "3          9591     Influencer endorsements               0              5   \n",
       "4         10134               Word of mouth               0              3   \n",
       "\n",
       "  productcategory responsetolastcampaign  feedbackscore   \n",
       "0             Q02                ignored       4.729998  \\\n",
       "1             F76              purchased       4.184512   \n",
       "2             X04            opened mail       4.346640   \n",
       "3             A25                ignored       5.000000   \n",
       "4             A16                ignored       4.482089   \n",
       "\n",
       "  preferredpaymentmethod  supportticketsraised hasloyaltycard  frequency  \n",
       "0             debit card                     0             no          7  \n",
       "1                   cash                     0             no          2  \n",
       "2             google pay                     0             no          4  \n",
       "3             debit card                     0             no         13  \n",
       "4            credit card                     0             no         11  "
      ]
     },
     "execution_count": 2,
     "metadata": {},
     "output_type": "execute_result"
    }
   ],
   "source": [
    "# reading the data\n",
    "data = pd.read_csv('Customer_Lifetime_Value_Dataset.csv')\n",
    "\n",
    "# printing the head of the data\n",
    "data.head()"
   ]
  },
  {
   "cell_type": "code",
   "execution_count": 9,
   "id": "a2714b2e-3270-4488-b10d-25049e534dc6",
   "metadata": {},
   "outputs": [
    {
     "name": "stdout",
     "output_type": "stream",
     "text": [
      "R-squared value using Gradient Boosting Regressor model: 0.3407372358929577\n"
     ]
    }
   ],
   "source": [
    "import pandas as pd\n",
    "from sklearn.ensemble import GradientBoostingRegressor\n",
    "from sklearn.preprocessing import LabelEncoder\n",
    "import matplotlib.pyplot as plt\n",
    "from sklearn.model_selection import train_test_split\n",
    "from sklearn.metrics import r2_score\n",
    "\n",
    "# Assuming 'totalpurchases' is your target column\n",
    "target_column = 'totalpurchases'\n",
    "features = ['totalrevenue', 'churnindicator', 'discountsused', 'feedbackscore', 'preferredpaymentmethod', 'frequency', 'tenure', 'recency']\n",
    "\n",
    "# Create a new DataFrame with only the selected columns\n",
    "new_df = labeled_data[features]\n",
    "\n",
    "# Drop non-numeric and target columns\n",
    "X = new_df\n",
    "y = labeled_data[target_column]\n",
    "\n",
    "# Split the data into training and testing sets\n",
    "X_train, X_test, y_train, y_test = train_test_split(X, y, test_size=0.2, random_state=42)\n",
    "\n",
    "# Initialize the GradientBoostingRegressor\n",
    "gbr = GradientBoostingRegressor(n_estimators=50, random_state=42, learning_rate = 0.1, max_depth = 3)\n",
    "\n",
    "# Fit the model\n",
    "gbr.fit(X_train, y_train)\n",
    "\n",
    "# Predict on the testing data\n",
    "y_pred = gbr.predict(X_test)\n",
    "\n",
    "# Calculate R-squared value\n",
    "r2_encoded = r2_score(y_test, y_pred)\n",
    "\n",
    "print(\"R-squared value using Gradient Boosting Regressor model:\", r2_encoded)"
   ]
  },
  {
   "cell_type": "code",
   "execution_count": 3,
   "id": "bd63e99f-be9b-4aa3-825c-e895e3bdd45f",
   "metadata": {},
   "outputs": [
    {
     "data": {
      "text/plain": [
       "array(['debit card', 'cash', 'google pay', 'credit card', 'apple pay',\n",
       "       'sezzle', 'paypal', 'afterpay', 'eft'], dtype=object)"
      ]
     },
     "execution_count": 3,
     "metadata": {},
     "output_type": "execute_result"
    }
   ],
   "source": [
    "data['preferredpaymentmethod'].unique()"
   ]
  },
  {
   "cell_type": "code",
   "execution_count": 4,
   "id": "890f80c4-2038-4625-85c9-4c0e7cb7a53a",
   "metadata": {},
   "outputs": [],
   "source": [
    "# converting 'lastpurchasedate' and 'firstpurchasedate' into datetime datatype\n",
    "data['lastpurchasedate'] = pd.to_datetime(data['lastpurchasedate'])\n",
    "data['firstpurchasedate'] = pd.to_datetime(data['firstpurchasedate'])\n",
    "\n",
    "# getting the max from 'lastpurchasedate'\n",
    "current_date = data['lastpurchasedate'].max()\n",
    "# calculating 'recency' based on 'lastpurchasedate'\n",
    "data['recency'] = (current_date - data['lastpurchasedate']).dt.days"
   ]
  },
  {
   "cell_type": "code",
   "execution_count": 5,
   "id": "c64cc543-c5be-422d-b48b-cf704f4b0738",
   "metadata": {},
   "outputs": [],
   "source": [
    "# creatiing 'Tenure' column by subracting the 'firstpurchasedate' from 'lastpurchasedate' for each customer\n",
    "data['tenure'] = (data['lastpurchasedate'] - data['firstpurchasedate']).dt.days"
   ]
  },
  {
   "cell_type": "code",
   "execution_count": 6,
   "id": "2a8786d6-13f6-4e61-af15-6d541e7315cc",
   "metadata": {},
   "outputs": [
    {
     "name": "stdout",
     "output_type": "stream",
     "text": [
      "      customerid firstpurchasedate lastpurchasedate  totalpurchases   \n",
      "0           8519        2021-12-31       2022-03-06               7  \\\n",
      "1          38152        2019-09-27       2023-02-02              20   \n",
      "2          19680        2021-06-13       2022-02-04              29   \n",
      "3          35744        2021-07-28       2022-08-21              15   \n",
      "4          11663        2021-01-19       2022-03-10              13   \n",
      "...          ...               ...              ...             ...   \n",
      "9909       21419        2020-07-15       2023-07-18              13   \n",
      "9910       24140        2019-05-24       2021-07-05              13   \n",
      "9911       32519        2021-04-21       2021-05-26              17   \n",
      "9912       47248        2021-04-15       2021-08-15              27   \n",
      "9913       44996        2020-02-22       2023-04-11               7   \n",
      "\n",
      "      totalrevenue  referralsource  churnindicator  discountsused   \n",
      "0            11670               4               0              2  \\\n",
      "1             5260               6               1              6   \n",
      "2             9790               3               0              2   \n",
      "3             9591               3               0              5   \n",
      "4            10134               7               0              3   \n",
      "...            ...             ...             ...            ...   \n",
      "9909         10023               2               1              6   \n",
      "9910          5121               2               0              6   \n",
      "9911          5962               6               1              1   \n",
      "9912          5039               5               1              5   \n",
      "9913          8660               4               0              1   \n",
      "\n",
      "     productcategory  responsetolastcampaign  feedbackscore   \n",
      "0                Q02                       0       4.729998  \\\n",
      "1                F76                       2       4.184512   \n",
      "2                X04                       1       4.346640   \n",
      "3                A25                       0       5.000000   \n",
      "4                A16                       0       4.482089   \n",
      "...              ...                     ...            ...   \n",
      "9909             K06                       1       5.000000   \n",
      "9910             I03                       1       2.747824   \n",
      "9911             W21                       2       4.019456   \n",
      "9912             Z44                       0       4.401005   \n",
      "9913             H78                       0       4.257398   \n",
      "\n",
      "      preferredpaymentmethod  supportticketsraised hasloyaltycard  frequency   \n",
      "0                          4                     0             no          7  \\\n",
      "1                          2                     0             no          2   \n",
      "2                          6                     0             no          4   \n",
      "3                          4                     0             no         13   \n",
      "4                          3                     0             no         11   \n",
      "...                      ...                   ...            ...        ...   \n",
      "9909                       2                     0             no          6   \n",
      "9910                       2                     0            yes         11   \n",
      "9911                       2                     0             no         17   \n",
      "9912                       4                     0             no          1   \n",
      "9913                       3                     0             no          3   \n",
      "\n",
      "      recency  tenure  \n",
      "0         542      65  \n",
      "1         209    1224  \n",
      "2         572     236  \n",
      "3         374     389  \n",
      "4         538     415  \n",
      "...       ...     ...  \n",
      "9909       43    1098  \n",
      "9910      786     773  \n",
      "9911      826      35  \n",
      "9912      745     122  \n",
      "9913      141    1144  \n",
      "\n",
      "[9914 rows x 17 columns]\n"
     ]
    }
   ],
   "source": [
    "from sklearn.preprocessing import LabelEncoder\n",
    "\n",
    "# Select the columns to be label encoded\n",
    "columns_to_encode = ['referralsource', 'responsetolastcampaign', 'preferredpaymentmethod']\n",
    "\n",
    "# Create a LabelEncoder instance\n",
    "label_encoder = LabelEncoder()\n",
    "\n",
    "# Create a new DataFrame 'encoded_data' to store the label-encoded data\n",
    "labeled_data = data.copy()\n",
    "\n",
    "# Iterate over the selected columns and apply label encoding\n",
    "for column in columns_to_encode:\n",
    "    # Fit and transform the column\n",
    "    labeled_data[column] = label_encoder.fit_transform(labeled_data[column])\n",
    "\n",
    "# Display the DataFrame with the label-encoded columns\n",
    "print(labeled_data)"
   ]
  },
  {
   "cell_type": "code",
   "execution_count": 7,
   "id": "c44cc6f4-6aa5-4cd8-bd7a-4395ee866ccb",
   "metadata": {},
   "outputs": [
    {
     "data": {
      "text/plain": [
       "Index(['customerid', 'firstpurchasedate', 'lastpurchasedate', 'totalpurchases',\n",
       "       'totalrevenue', 'referralsource', 'churnindicator', 'discountsused',\n",
       "       'productcategory', 'responsetolastcampaign', 'feedbackscore',\n",
       "       'preferredpaymentmethod', 'supportticketsraised', 'hasloyaltycard',\n",
       "       'frequency', 'recency', 'tenure'],\n",
       "      dtype='object')"
      ]
     },
     "execution_count": 7,
     "metadata": {},
     "output_type": "execute_result"
    }
   ],
   "source": [
    "labeled_data.columns"
   ]
  },
  {
   "cell_type": "code",
   "execution_count": 10,
   "id": "8a7c50fb-cb07-44c2-9455-cabcf165b5f8",
   "metadata": {},
   "outputs": [
    {
     "data": {
      "text/plain": [
       "['gradient_boosting_regressor.pkl']"
      ]
     },
     "execution_count": 10,
     "metadata": {},
     "output_type": "execute_result"
    }
   ],
   "source": [
    "import joblib\n",
    " \n",
    "# Serialize (saving) the trained model to a file\n",
    "joblib.dump(gbr, 'gradient_boosting_regressor.pkl')"
   ]
  }
 ],
 "metadata": {
  "kernelspec": {
   "display_name": "Python 3 (ipykernel)",
   "language": "python",
   "name": "python3"
  },
  "language_info": {
   "codemirror_mode": {
    "name": "ipython",
    "version": 3
   },
   "file_extension": ".py",
   "mimetype": "text/x-python",
   "name": "python",
   "nbconvert_exporter": "python",
   "pygments_lexer": "ipython3",
   "version": "3.10.11"
  }
 },
 "nbformat": 4,
 "nbformat_minor": 5
}
